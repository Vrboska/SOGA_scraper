{
 "cells": [
  {
   "cell_type": "markdown",
   "id": "bb06aaca",
   "metadata": {},
   "source": [
    "- Data su zo stranky www.soga.sk, jedna sa o vsetky aukcie od roku 2004 az po 2024, cca 100 aukcii a 21,000 drazenych diel"
   ]
  },
  {
   "cell_type": "code",
   "execution_count": 17,
   "id": "74c85c2f",
   "metadata": {
    "ExecuteTime": {
     "end_time": "2024-02-11T11:21:32.429205Z",
     "start_time": "2024-02-11T11:21:32.419204Z"
    },
    "execution": {
     "iopub.execute_input": "2025-08-06T07:00:35.227879Z",
     "iopub.status.busy": "2025-08-06T07:00:35.226868Z",
     "iopub.status.idle": "2025-08-06T07:00:35.238844Z",
     "shell.execute_reply": "2025-08-06T07:00:35.237750Z",
     "shell.execute_reply.started": "2025-08-06T07:00:35.227879Z"
    }
   },
   "outputs": [],
   "source": [
    "import sqlite3\n",
    "import pandas as pd\n",
    "import pandasql as ps\n",
    "from IPython.display import display, HTML\n",
    "import matplotlib.pyplot as plt\n",
    "import seaborn as sns\n",
    "\n",
    "from bokeh.plotting import figure, show\n",
    "from bokeh.models import ColumnDataSource\n",
    "from bokeh.palettes import Category10\n",
    "from bokeh.io import output_notebook"
   ]
  },
  {
   "cell_type": "code",
   "execution_count": 18,
   "id": "2cd85447",
   "metadata": {
    "ExecuteTime": {
     "end_time": "2024-02-11T11:21:32.676622Z",
     "start_time": "2024-02-11T11:21:32.431204Z"
    },
    "execution": {
     "iopub.execute_input": "2025-08-06T07:00:35.239847Z",
     "iopub.status.busy": "2025-08-06T07:00:35.238844Z",
     "iopub.status.idle": "2025-08-06T07:00:35.297564Z",
     "shell.execute_reply": "2025-08-06T07:00:35.297564Z",
     "shell.execute_reply.started": "2025-08-06T07:00:35.239847Z"
    }
   },
   "outputs": [
    {
     "data": {
      "text/html": [
       "<div>\n",
       "<style scoped>\n",
       "    .dataframe tbody tr th:only-of-type {\n",
       "        vertical-align: middle;\n",
       "    }\n",
       "\n",
       "    .dataframe tbody tr th {\n",
       "        vertical-align: top;\n",
       "    }\n",
       "\n",
       "    .dataframe thead th {\n",
       "        text-align: right;\n",
       "    }\n",
       "</style>\n",
       "<table border=\"1\" class=\"dataframe\">\n",
       "  <thead>\n",
       "    <tr style=\"text-align: right;\">\n",
       "      <th></th>\n",
       "      <th>autor</th>\n",
       "      <th>nazov</th>\n",
       "      <th>vydrazene</th>\n",
       "      <th>konecna_cena</th>\n",
       "      <th>vyvolavacia_cena</th>\n",
       "      <th>rok</th>\n",
       "      <th>technika</th>\n",
       "      <th>datum</th>\n",
       "      <th>url_soga</th>\n",
       "    </tr>\n",
       "  </thead>\n",
       "  <tbody>\n",
       "    <tr>\n",
       "      <th>0</th>\n",
       "      <td>DOMENICHINO</td>\n",
       "      <td>Chlapec s dalmatínom</td>\n",
       "      <td>1</td>\n",
       "      <td>531103.0</td>\n",
       "      <td>663878.0</td>\n",
       "      <td>okolo 1615-25</td>\n",
       "      <td>olej na plátne</td>\n",
       "      <td>04. Október 2005</td>\n",
       "      <td>https://www.soga.sk/aukcie-obrazy-diela-umenie...</td>\n",
       "    </tr>\n",
       "    <tr>\n",
       "      <th>1</th>\n",
       "      <td>FULLA ĽUDOVÍT</td>\n",
       "      <td>Otčenáš</td>\n",
       "      <td>1</td>\n",
       "      <td>95000.0</td>\n",
       "      <td>NaN</td>\n",
       "      <td>1975</td>\n",
       "      <td>Olej na plátne (autorský rám)</td>\n",
       "      <td>21. Apríl 2015, 19:00</td>\n",
       "      <td>https://www.soga.sk/aukcie-obrazy-diela-umenie...</td>\n",
       "    </tr>\n",
       "    <tr>\n",
       "      <th>2</th>\n",
       "      <td>BENKA MARTIN</td>\n",
       "      <td>Katedrála Spišskej kapituly</td>\n",
       "      <td>1</td>\n",
       "      <td>65000.0</td>\n",
       "      <td>NaN</td>\n",
       "      <td>1942</td>\n",
       "      <td>Olej na plátne</td>\n",
       "      <td>21. Apríl 2015, 19:00</td>\n",
       "      <td>https://www.soga.sk/aukcie-obrazy-diela-umenie...</td>\n",
       "    </tr>\n",
       "    <tr>\n",
       "      <th>3</th>\n",
       "      <td>ANTON JASUSCH</td>\n",
       "      <td>Divadelná šatňa (Zuzana a starci)</td>\n",
       "      <td>1</td>\n",
       "      <td>48131.0</td>\n",
       "      <td>29875.0</td>\n",
       "      <td>okolo 1920 - 24</td>\n",
       "      <td>olej na plátne</td>\n",
       "      <td>28. Marec 2006</td>\n",
       "      <td>https://www.soga.sk/aukcie-obrazy-diela-umenie...</td>\n",
       "    </tr>\n",
       "    <tr>\n",
       "      <th>4</th>\n",
       "      <td>ANDREJ /ENDRE/ NEMEŠ /NEMES/</td>\n",
       "      <td>Ateliér</td>\n",
       "      <td>1</td>\n",
       "      <td>47135.0</td>\n",
       "      <td>27219.0</td>\n",
       "      <td>1937</td>\n",
       "      <td>olej na plátne</td>\n",
       "      <td>11. Marec 2008</td>\n",
       "      <td>https://www.soga.sk/aukcie-obrazy-diela-umenie...</td>\n",
       "    </tr>\n",
       "  </tbody>\n",
       "</table>\n",
       "</div>"
      ],
      "text/plain": [
       "                           autor                              nazov vydrazene  \\\n",
       "0                   DOMENICHINO                Chlapec s dalmatínom         1   \n",
       "1                 FULLA ĽUDOVÍT                             Otčenáš         1   \n",
       "2                  BENKA MARTIN         Katedrála Spišskej kapituly         1   \n",
       "3                 ANTON JASUSCH   Divadelná šatňa (Zuzana a starci)         1   \n",
       "4  ANDREJ /ENDRE/ NEMEŠ /NEMES/                             Ateliér         1   \n",
       "\n",
       "   konecna_cena  vyvolavacia_cena              rok  \\\n",
       "0      531103.0          663878.0    okolo 1615-25   \n",
       "1       95000.0               NaN             1975   \n",
       "2       65000.0               NaN             1942   \n",
       "3       48131.0           29875.0  okolo 1920 - 24   \n",
       "4       47135.0           27219.0             1937   \n",
       "\n",
       "                        technika                  datum  \\\n",
       "0                 olej na plátne       04. Október 2005   \n",
       "1  Olej na plátne (autorský rám)  21. Apríl 2015, 19:00   \n",
       "2                 Olej na plátne  21. Apríl 2015, 19:00   \n",
       "3                 olej na plátne         28. Marec 2006   \n",
       "4                 olej na plátne         11. Marec 2008   \n",
       "\n",
       "                                            url_soga  \n",
       "0  https://www.soga.sk/aukcie-obrazy-diela-umenie...  \n",
       "1  https://www.soga.sk/aukcie-obrazy-diela-umenie...  \n",
       "2  https://www.soga.sk/aukcie-obrazy-diela-umenie...  \n",
       "3  https://www.soga.sk/aukcie-obrazy-diela-umenie...  \n",
       "4  https://www.soga.sk/aukcie-obrazy-diela-umenie...  "
      ]
     },
     "execution_count": 18,
     "metadata": {},
     "output_type": "execute_result"
    }
   ],
   "source": [
    "# Connect to the SQLite database\n",
    "conn = sqlite3.connect('soga.db')\n",
    "\n",
    "# Query to select data from the database\n",
    "query = \"\"\"\n",
    "SELECT \n",
    "    UPPER(SUBSTR(autor, 1, INSTR(autor, '(') - 1)) AS autor,\n",
    "    a.nazov, \n",
    "    vydrazene,\n",
    "    CAST(REPLACE(konecna_cena, ' ', '') AS INTEGER) AS konecna_cena,\n",
    "    CAST(REPLACE(vyvolavacia_cena, ' ', '') AS INTEGER) AS vyvolavacia_cena,\n",
    "    rok,\n",
    "    technika,\n",
    "    datum,\n",
    "    url_soga\n",
    "FROM diela a \n",
    "LEFT JOIN aukcie b ON a.id_aukcie = b.id \n",
    "WHERE TRUE \n",
    "-- AND autor like '%FILKO%'\n",
    "ORDER BY CAST(REPLACE(konecna_cena, ' ', '') AS INTEGER) DESC;\n",
    "\"\"\"\n",
    "\n",
    "# Load data into a Pandas DataFrame\n",
    "df = pd.read_sql_query(query, conn)\n",
    "\n",
    "# Close the database connection\n",
    "conn.close()\n",
    "\n",
    "# Display the DataFrame\n",
    "df.head()"
   ]
  },
  {
   "cell_type": "markdown",
   "id": "1517b4ed",
   "metadata": {
    "ExecuteTime": {
     "end_time": "2024-02-11T09:12:39.531145Z",
     "start_time": "2024-02-11T09:12:39.527407Z"
    }
   },
   "source": [
    "# Priprava dat"
   ]
  },
  {
   "cell_type": "code",
   "execution_count": 19,
   "id": "1eb42c03",
   "metadata": {
    "ExecuteTime": {
     "end_time": "2024-02-11T11:21:32.690978Z",
     "start_time": "2024-02-11T11:21:32.680150Z"
    },
    "execution": {
     "iopub.execute_input": "2025-08-06T07:00:35.298338Z",
     "iopub.status.busy": "2025-08-06T07:00:35.298338Z",
     "iopub.status.idle": "2025-08-06T07:00:35.305204Z",
     "shell.execute_reply": "2025-08-06T07:00:35.304619Z",
     "shell.execute_reply.started": "2025-08-06T07:00:35.298338Z"
    }
   },
   "outputs": [],
   "source": [
    "from unidecode import unidecode  # Import the unidecode function\n",
    "import re\n",
    "\n",
    "\n",
    "# Custom function to standardize and reorder names\n",
    "def standardize_and_order_name(name):\n",
    "    # Convert accented characters to ASCII equivalents\n",
    "    name = unidecode(name)\n",
    "    name= name.upper()\n",
    "\n",
    "    # Split the name into parts\n",
    "    name_parts = name.split()\n",
    "\n",
    "    # Reorder the name parts alphabetically\n",
    "    standardized_name = ' '.join(sorted(name_parts))\n",
    "    \n",
    "    \n",
    "\n",
    "    return standardized_name\n",
    "\n",
    "\n",
    "def extract_first_year(date_string):\n",
    "    # Regular expression pattern to match a year\n",
    "    year_pattern = re.compile(r'\\b\\d{4}\\b')\n",
    "\n",
    "    # Find the first match in the string\n",
    "    match = year_pattern.search(date_string)\n",
    "\n",
    "    # Extract and return the matched year\n",
    "    if match:\n",
    "        return int(match.group())\n",
    "\n",
    "    return None  # Return None if no year is found\n"
   ]
  },
  {
   "cell_type": "code",
   "execution_count": 20,
   "id": "d68ca153",
   "metadata": {
    "ExecuteTime": {
     "end_time": "2024-02-11T11:21:32.803643Z",
     "start_time": "2024-02-11T11:21:32.695755Z"
    },
    "execution": {
     "iopub.execute_input": "2025-08-06T07:00:35.306213Z",
     "iopub.status.busy": "2025-08-06T07:00:35.306213Z",
     "iopub.status.idle": "2025-08-06T07:00:35.322882Z",
     "shell.execute_reply": "2025-08-06T07:00:35.322882Z",
     "shell.execute_reply.started": "2025-08-06T07:00:35.306213Z"
    }
   },
   "outputs": [],
   "source": [
    "df['autor']=df['autor'].apply(standardize_and_order_name)"
   ]
  },
  {
   "cell_type": "code",
   "execution_count": 21,
   "id": "2c3dc3ae",
   "metadata": {
    "ExecuteTime": {
     "end_time": "2024-02-11T11:21:32.821525Z",
     "start_time": "2024-02-11T11:21:32.805744Z"
    },
    "execution": {
     "iopub.execute_input": "2025-08-06T07:00:35.324387Z",
     "iopub.status.busy": "2025-08-06T07:00:35.324387Z",
     "iopub.status.idle": "2025-08-06T07:00:35.337979Z",
     "shell.execute_reply": "2025-08-06T07:00:35.337979Z",
     "shell.execute_reply.started": "2025-08-06T07:00:35.324387Z"
    }
   },
   "outputs": [],
   "source": [
    "df['olej']=df['technika'].apply(lambda x: 'olej' in x.lower())"
   ]
  },
  {
   "cell_type": "code",
   "execution_count": 22,
   "id": "71060f36",
   "metadata": {
    "ExecuteTime": {
     "end_time": "2024-02-11T11:21:32.894558Z",
     "start_time": "2024-02-11T11:21:32.823199Z"
    },
    "execution": {
     "iopub.execute_input": "2025-08-06T07:00:35.339486Z",
     "iopub.status.busy": "2025-08-06T07:00:35.337979Z",
     "iopub.status.idle": "2025-08-06T07:00:35.372158Z",
     "shell.execute_reply": "2025-08-06T07:00:35.371536Z",
     "shell.execute_reply.started": "2025-08-06T07:00:35.339486Z"
    }
   },
   "outputs": [],
   "source": [
    "df['rok_vytvorenia']=df['rok'].apply(lambda x: extract_first_year(x)).fillna(-1).astype(int).replace(-1,None)\n",
    "df['rok_drazby']=df['datum'].apply(lambda x: extract_first_year(x)).fillna(-1).astype(int).replace(-1,None)"
   ]
  },
  {
   "cell_type": "code",
   "execution_count": 23,
   "id": "40f4623b",
   "metadata": {
    "ExecuteTime": {
     "end_time": "2024-02-11T11:21:32.918837Z",
     "start_time": "2024-02-11T11:21:32.897330Z"
    },
    "execution": {
     "iopub.execute_input": "2025-08-06T07:00:35.372158Z",
     "iopub.status.busy": "2025-08-06T07:00:35.372158Z",
     "iopub.status.idle": "2025-08-06T07:00:35.388106Z",
     "shell.execute_reply": "2025-08-06T07:00:35.388106Z",
     "shell.execute_reply.started": "2025-08-06T07:00:35.372158Z"
    }
   },
   "outputs": [
    {
     "data": {
      "text/html": [
       "<div>\n",
       "<style scoped>\n",
       "    .dataframe tbody tr th:only-of-type {\n",
       "        vertical-align: middle;\n",
       "    }\n",
       "\n",
       "    .dataframe tbody tr th {\n",
       "        vertical-align: top;\n",
       "    }\n",
       "\n",
       "    .dataframe thead th {\n",
       "        text-align: right;\n",
       "    }\n",
       "</style>\n",
       "<table border=\"1\" class=\"dataframe\">\n",
       "  <thead>\n",
       "    <tr style=\"text-align: right;\">\n",
       "      <th></th>\n",
       "      <th>autor</th>\n",
       "      <th>nazov</th>\n",
       "      <th>vydrazene</th>\n",
       "      <th>konecna_cena</th>\n",
       "      <th>vyvolavacia_cena</th>\n",
       "      <th>rok</th>\n",
       "      <th>technika</th>\n",
       "      <th>datum</th>\n",
       "      <th>url_soga</th>\n",
       "      <th>olej</th>\n",
       "      <th>rok_vytvorenia</th>\n",
       "      <th>rok_drazby</th>\n",
       "    </tr>\n",
       "  </thead>\n",
       "  <tbody>\n",
       "    <tr>\n",
       "      <th>0</th>\n",
       "      <td>DOMENICHINO</td>\n",
       "      <td>Chlapec s dalmatínom</td>\n",
       "      <td>1</td>\n",
       "      <td>531103.0</td>\n",
       "      <td>663878.0</td>\n",
       "      <td>okolo 1615-25</td>\n",
       "      <td>olej na plátne</td>\n",
       "      <td>04. Október 2005</td>\n",
       "      <td>https://www.soga.sk/aukcie-obrazy-diela-umenie...</td>\n",
       "      <td>True</td>\n",
       "      <td>1615</td>\n",
       "      <td>2005</td>\n",
       "    </tr>\n",
       "    <tr>\n",
       "      <th>1</th>\n",
       "      <td>FULLA LUDOVIT</td>\n",
       "      <td>Otčenáš</td>\n",
       "      <td>1</td>\n",
       "      <td>95000.0</td>\n",
       "      <td>NaN</td>\n",
       "      <td>1975</td>\n",
       "      <td>Olej na plátne (autorský rám)</td>\n",
       "      <td>21. Apríl 2015, 19:00</td>\n",
       "      <td>https://www.soga.sk/aukcie-obrazy-diela-umenie...</td>\n",
       "      <td>True</td>\n",
       "      <td>1975</td>\n",
       "      <td>2015</td>\n",
       "    </tr>\n",
       "    <tr>\n",
       "      <th>2</th>\n",
       "      <td>BENKA MARTIN</td>\n",
       "      <td>Katedrála Spišskej kapituly</td>\n",
       "      <td>1</td>\n",
       "      <td>65000.0</td>\n",
       "      <td>NaN</td>\n",
       "      <td>1942</td>\n",
       "      <td>Olej na plátne</td>\n",
       "      <td>21. Apríl 2015, 19:00</td>\n",
       "      <td>https://www.soga.sk/aukcie-obrazy-diela-umenie...</td>\n",
       "      <td>True</td>\n",
       "      <td>1942</td>\n",
       "      <td>2015</td>\n",
       "    </tr>\n",
       "    <tr>\n",
       "      <th>3</th>\n",
       "      <td>ANTON JASUSCH</td>\n",
       "      <td>Divadelná šatňa (Zuzana a starci)</td>\n",
       "      <td>1</td>\n",
       "      <td>48131.0</td>\n",
       "      <td>29875.0</td>\n",
       "      <td>okolo 1920 - 24</td>\n",
       "      <td>olej na plátne</td>\n",
       "      <td>28. Marec 2006</td>\n",
       "      <td>https://www.soga.sk/aukcie-obrazy-diela-umenie...</td>\n",
       "      <td>True</td>\n",
       "      <td>1920</td>\n",
       "      <td>2006</td>\n",
       "    </tr>\n",
       "    <tr>\n",
       "      <th>4</th>\n",
       "      <td>/ENDRE/ /NEMES/ ANDREJ NEMES</td>\n",
       "      <td>Ateliér</td>\n",
       "      <td>1</td>\n",
       "      <td>47135.0</td>\n",
       "      <td>27219.0</td>\n",
       "      <td>1937</td>\n",
       "      <td>olej na plátne</td>\n",
       "      <td>11. Marec 2008</td>\n",
       "      <td>https://www.soga.sk/aukcie-obrazy-diela-umenie...</td>\n",
       "      <td>True</td>\n",
       "      <td>1937</td>\n",
       "      <td>2008</td>\n",
       "    </tr>\n",
       "  </tbody>\n",
       "</table>\n",
       "</div>"
      ],
      "text/plain": [
       "                          autor                              nazov vydrazene  \\\n",
       "0                   DOMENICHINO               Chlapec s dalmatínom         1   \n",
       "1                 FULLA LUDOVIT                            Otčenáš         1   \n",
       "2                  BENKA MARTIN        Katedrála Spišskej kapituly         1   \n",
       "3                 ANTON JASUSCH  Divadelná šatňa (Zuzana a starci)         1   \n",
       "4  /ENDRE/ /NEMES/ ANDREJ NEMES                            Ateliér         1   \n",
       "\n",
       "   konecna_cena  vyvolavacia_cena              rok  \\\n",
       "0      531103.0          663878.0    okolo 1615-25   \n",
       "1       95000.0               NaN             1975   \n",
       "2       65000.0               NaN             1942   \n",
       "3       48131.0           29875.0  okolo 1920 - 24   \n",
       "4       47135.0           27219.0             1937   \n",
       "\n",
       "                        technika                  datum  \\\n",
       "0                 olej na plátne       04. Október 2005   \n",
       "1  Olej na plátne (autorský rám)  21. Apríl 2015, 19:00   \n",
       "2                 Olej na plátne  21. Apríl 2015, 19:00   \n",
       "3                 olej na plátne         28. Marec 2006   \n",
       "4                 olej na plátne         11. Marec 2008   \n",
       "\n",
       "                                            url_soga  olej  rok_vytvorenia  \\\n",
       "0  https://www.soga.sk/aukcie-obrazy-diela-umenie...  True            1615   \n",
       "1  https://www.soga.sk/aukcie-obrazy-diela-umenie...  True            1975   \n",
       "2  https://www.soga.sk/aukcie-obrazy-diela-umenie...  True            1942   \n",
       "3  https://www.soga.sk/aukcie-obrazy-diela-umenie...  True            1920   \n",
       "4  https://www.soga.sk/aukcie-obrazy-diela-umenie...  True            1937   \n",
       "\n",
       "   rok_drazby  \n",
       "0        2005  \n",
       "1        2015  \n",
       "2        2015  \n",
       "3        2006  \n",
       "4        2008  "
      ]
     },
     "execution_count": 23,
     "metadata": {},
     "output_type": "execute_result"
    }
   ],
   "source": [
    "df.head()"
   ]
  },
  {
   "cell_type": "markdown",
   "id": "61c1929d",
   "metadata": {},
   "source": [
    "# Analyza"
   ]
  },
  {
   "cell_type": "markdown",
   "id": "eaa34260",
   "metadata": {},
   "source": [
    "## Top 50"
   ]
  },
  {
   "cell_type": "markdown",
   "id": "16abbb2c",
   "metadata": {},
   "source": [
    "### Top 50 najdrazsich autorov podla priemernej ceny"
   ]
  },
  {
   "cell_type": "code",
   "execution_count": 26,
   "id": "f1107b38",
   "metadata": {
    "ExecuteTime": {
     "end_time": "2024-02-11T11:21:33.186949Z",
     "start_time": "2024-02-11T11:21:32.920527Z"
    },
    "execution": {
     "iopub.execute_input": "2025-08-06T07:21:20.639577Z",
     "iopub.status.busy": "2025-08-06T07:21:20.638562Z",
     "iopub.status.idle": "2025-08-06T07:21:20.652567Z",
     "shell.execute_reply": "2025-08-06T07:21:20.652567Z",
     "shell.execute_reply.started": "2025-08-06T07:21:20.639577Z"
    }
   },
   "outputs": [
    {
     "ename": "DatabaseError",
     "evalue": "Execution failed on sql '\nselect \nautor, \ncount(*) pocet_vydrazenych_od_2004, \nROUND(avg(konecna_cena)) as priemerna_vydrazena_cena_EUR,\nmin(konecna_cena)as minimalna_vydrazena_cena_EUR,\nmax(konecna_cena)as maximalna_vydrazena_cena_EUR\n--sum(konecna_cena)as celkovo_vydrazene_EUR\nfrom df \nwhere True \nand konecna_cena is not null \n--and olej\ngroup by 1 \nhaving count(*)>5\norder by 3\nDESC \n': no such table: df",
     "output_type": "error",
     "traceback": [
      "\u001b[1;31m---------------------------------------------------------------------------\u001b[0m",
      "\u001b[1;31mOperationalError\u001b[0m                          Traceback (most recent call last)",
      "\u001b[1;32m~\\anaconda3\\lib\\site-packages\\pandas\\io\\sql.py\u001b[0m in \u001b[0;36mexecute\u001b[1;34m(self, *args, **kwargs)\u001b[0m\n\u001b[0;32m   2055\u001b[0m         \u001b[1;32mtry\u001b[0m\u001b[1;33m:\u001b[0m\u001b[1;33m\u001b[0m\u001b[1;33m\u001b[0m\u001b[0m\n\u001b[1;32m-> 2056\u001b[1;33m             \u001b[0mcur\u001b[0m\u001b[1;33m.\u001b[0m\u001b[0mexecute\u001b[0m\u001b[1;33m(\u001b[0m\u001b[1;33m*\u001b[0m\u001b[0margs\u001b[0m\u001b[1;33m,\u001b[0m \u001b[1;33m**\u001b[0m\u001b[0mkwargs\u001b[0m\u001b[1;33m)\u001b[0m\u001b[1;33m\u001b[0m\u001b[1;33m\u001b[0m\u001b[0m\n\u001b[0m\u001b[0;32m   2057\u001b[0m             \u001b[1;32mreturn\u001b[0m \u001b[0mcur\u001b[0m\u001b[1;33m\u001b[0m\u001b[1;33m\u001b[0m\u001b[0m\n",
      "\u001b[1;31mOperationalError\u001b[0m: no such table: df",
      "\nThe above exception was the direct cause of the following exception:\n",
      "\u001b[1;31mDatabaseError\u001b[0m                             Traceback (most recent call last)",
      "\u001b[1;32m~\\AppData\\Local\\Temp\\ipykernel_50580\\3252295012.py\u001b[0m in \u001b[0;36m<module>\u001b[1;34m\u001b[0m\n\u001b[0;32m     18\u001b[0m \"\"\"\n\u001b[0;32m     19\u001b[0m \u001b[0mconn\u001b[0m \u001b[1;33m=\u001b[0m \u001b[0msqlite3\u001b[0m\u001b[1;33m.\u001b[0m\u001b[0mconnect\u001b[0m\u001b[1;33m(\u001b[0m\u001b[1;34m'soga.db'\u001b[0m\u001b[1;33m)\u001b[0m\u001b[1;33m\u001b[0m\u001b[1;33m\u001b[0m\u001b[0m\n\u001b[1;32m---> 20\u001b[1;33m \u001b[0mresult_df\u001b[0m\u001b[1;33m=\u001b[0m\u001b[0mpd\u001b[0m\u001b[1;33m.\u001b[0m\u001b[0mread_sql_query\u001b[0m\u001b[1;33m(\u001b[0m\u001b[0mquery\u001b[0m\u001b[1;33m,\u001b[0m \u001b[0mconn\u001b[0m\u001b[1;33m)\u001b[0m\u001b[1;33m\u001b[0m\u001b[1;33m\u001b[0m\u001b[0m\n\u001b[0m\u001b[0;32m     21\u001b[0m \u001b[0mconn\u001b[0m\u001b[1;33m.\u001b[0m\u001b[0mclose\u001b[0m\u001b[1;33m(\u001b[0m\u001b[1;33m)\u001b[0m\u001b[1;33m\u001b[0m\u001b[1;33m\u001b[0m\u001b[0m\n\u001b[0;32m     22\u001b[0m \u001b[1;31m# Apply the query using pandasql\u001b[0m\u001b[1;33m\u001b[0m\u001b[1;33m\u001b[0m\u001b[0m\n",
      "\u001b[1;32m~\\anaconda3\\lib\\site-packages\\pandas\\io\\sql.py\u001b[0m in \u001b[0;36mread_sql_query\u001b[1;34m(sql, con, index_col, coerce_float, params, parse_dates, chunksize, dtype)\u001b[0m\n\u001b[0;32m    434\u001b[0m     \"\"\"\n\u001b[0;32m    435\u001b[0m     \u001b[0mpandas_sql\u001b[0m \u001b[1;33m=\u001b[0m \u001b[0mpandasSQL_builder\u001b[0m\u001b[1;33m(\u001b[0m\u001b[0mcon\u001b[0m\u001b[1;33m)\u001b[0m\u001b[1;33m\u001b[0m\u001b[1;33m\u001b[0m\u001b[0m\n\u001b[1;32m--> 436\u001b[1;33m     return pandas_sql.read_query(\n\u001b[0m\u001b[0;32m    437\u001b[0m         \u001b[0msql\u001b[0m\u001b[1;33m,\u001b[0m\u001b[1;33m\u001b[0m\u001b[1;33m\u001b[0m\u001b[0m\n\u001b[0;32m    438\u001b[0m         \u001b[0mindex_col\u001b[0m\u001b[1;33m=\u001b[0m\u001b[0mindex_col\u001b[0m\u001b[1;33m,\u001b[0m\u001b[1;33m\u001b[0m\u001b[1;33m\u001b[0m\u001b[0m\n",
      "\u001b[1;32m~\\anaconda3\\lib\\site-packages\\pandas\\io\\sql.py\u001b[0m in \u001b[0;36mread_query\u001b[1;34m(self, sql, index_col, coerce_float, params, parse_dates, chunksize, dtype)\u001b[0m\n\u001b[0;32m   2114\u001b[0m \u001b[1;33m\u001b[0m\u001b[0m\n\u001b[0;32m   2115\u001b[0m         \u001b[0margs\u001b[0m \u001b[1;33m=\u001b[0m \u001b[0m_convert_params\u001b[0m\u001b[1;33m(\u001b[0m\u001b[0msql\u001b[0m\u001b[1;33m,\u001b[0m \u001b[0mparams\u001b[0m\u001b[1;33m)\u001b[0m\u001b[1;33m\u001b[0m\u001b[1;33m\u001b[0m\u001b[0m\n\u001b[1;32m-> 2116\u001b[1;33m         \u001b[0mcursor\u001b[0m \u001b[1;33m=\u001b[0m \u001b[0mself\u001b[0m\u001b[1;33m.\u001b[0m\u001b[0mexecute\u001b[0m\u001b[1;33m(\u001b[0m\u001b[1;33m*\u001b[0m\u001b[0margs\u001b[0m\u001b[1;33m)\u001b[0m\u001b[1;33m\u001b[0m\u001b[1;33m\u001b[0m\u001b[0m\n\u001b[0m\u001b[0;32m   2117\u001b[0m         \u001b[0mcolumns\u001b[0m \u001b[1;33m=\u001b[0m \u001b[1;33m[\u001b[0m\u001b[0mcol_desc\u001b[0m\u001b[1;33m[\u001b[0m\u001b[1;36m0\u001b[0m\u001b[1;33m]\u001b[0m \u001b[1;32mfor\u001b[0m \u001b[0mcol_desc\u001b[0m \u001b[1;32min\u001b[0m \u001b[0mcursor\u001b[0m\u001b[1;33m.\u001b[0m\u001b[0mdescription\u001b[0m\u001b[1;33m]\u001b[0m\u001b[1;33m\u001b[0m\u001b[1;33m\u001b[0m\u001b[0m\n\u001b[0;32m   2118\u001b[0m \u001b[1;33m\u001b[0m\u001b[0m\n",
      "\u001b[1;32m~\\anaconda3\\lib\\site-packages\\pandas\\io\\sql.py\u001b[0m in \u001b[0;36mexecute\u001b[1;34m(self, *args, **kwargs)\u001b[0m\n\u001b[0;32m   2066\u001b[0m \u001b[1;33m\u001b[0m\u001b[0m\n\u001b[0;32m   2067\u001b[0m             \u001b[0mex\u001b[0m \u001b[1;33m=\u001b[0m \u001b[0mDatabaseError\u001b[0m\u001b[1;33m(\u001b[0m\u001b[1;34mf\"Execution failed on sql '{args[0]}': {exc}\"\u001b[0m\u001b[1;33m)\u001b[0m\u001b[1;33m\u001b[0m\u001b[1;33m\u001b[0m\u001b[0m\n\u001b[1;32m-> 2068\u001b[1;33m             \u001b[1;32mraise\u001b[0m \u001b[0mex\u001b[0m \u001b[1;32mfrom\u001b[0m \u001b[0mexc\u001b[0m\u001b[1;33m\u001b[0m\u001b[1;33m\u001b[0m\u001b[0m\n\u001b[0m\u001b[0;32m   2069\u001b[0m \u001b[1;33m\u001b[0m\u001b[0m\n\u001b[0;32m   2070\u001b[0m     \u001b[1;33m@\u001b[0m\u001b[0mstaticmethod\u001b[0m\u001b[1;33m\u001b[0m\u001b[1;33m\u001b[0m\u001b[0m\n",
      "\u001b[1;31mDatabaseError\u001b[0m: Execution failed on sql '\nselect \nautor, \ncount(*) pocet_vydrazenych_od_2004, \nROUND(avg(konecna_cena)) as priemerna_vydrazena_cena_EUR,\nmin(konecna_cena)as minimalna_vydrazena_cena_EUR,\nmax(konecna_cena)as maximalna_vydrazena_cena_EUR\n--sum(konecna_cena)as celkovo_vydrazene_EUR\nfrom df \nwhere True \nand konecna_cena is not null \n--and olej\ngroup by 1 \nhaving count(*)>5\norder by 3\nDESC \n': no such table: df"
     ]
    }
   ],
   "source": [
    "# SQL-like query\n",
    "query = \"\"\"\n",
    "select \n",
    "autor, \n",
    "count(*) pocet_vydrazenych_od_2004, \n",
    "ROUND(avg(konecna_cena)) as priemerna_vydrazena_cena_EUR,\n",
    "min(konecna_cena)as minimalna_vydrazena_cena_EUR,\n",
    "max(konecna_cena)as maximalna_vydrazena_cena_EUR\n",
    "--sum(konecna_cena)as celkovo_vydrazene_EUR\n",
    "from df \n",
    "where True \n",
    "and konecna_cena is not null \n",
    "--and olej\n",
    "group by 1 \n",
    "having count(*)>5\n",
    "order by 3\n",
    "DESC \n",
    "\"\"\"\n",
    "\n",
    "\n",
    "# Apply the query using pandasql\n",
    "result_df = ps.sqldf(query, locals())\n",
    "\n",
    "# Display the result DataFrame\n",
    "result_df[0:50]"
   ]
  },
  {
   "cell_type": "markdown",
   "id": "5c926161",
   "metadata": {},
   "source": [
    "### Top 50 najdrazsich autorov - oleje"
   ]
  },
  {
   "cell_type": "code",
   "execution_count": null,
   "id": "49d21675",
   "metadata": {
    "ExecuteTime": {
     "end_time": "2024-02-11T11:21:33.440180Z",
     "start_time": "2024-02-11T11:21:33.188025Z"
    },
    "execution": {
     "iopub.status.busy": "2025-08-06T07:00:35.431669Z",
     "iopub.status.idle": "2025-08-06T07:00:35.431669Z",
     "shell.execute_reply": "2025-08-06T07:00:35.431669Z",
     "shell.execute_reply.started": "2025-08-06T07:00:35.431669Z"
    }
   },
   "outputs": [],
   "source": [
    "# SQL-like query\n",
    "query = \"\"\"\n",
    "select \n",
    "autor, \n",
    "count(*) pocet_vydrazenych_od_2004, \n",
    "ROUND(avg(konecna_cena)) as priemerna_vydrazena_cena_EUR,\n",
    "min(konecna_cena)as minimalna_vydrazena_cena_EUR,\n",
    "max(konecna_cena)as maximalna_vydrazena_cena_EUR\n",
    "--sum(konecna_cena)as celkovo_vydrazene_EUR\n",
    "from df \n",
    "where True \n",
    "and konecna_cena is not null \n",
    "and olej\n",
    "group by 1 \n",
    "having count(*)>5\n",
    "order by 3\n",
    "DESC \n",
    "\"\"\"\n",
    "\n",
    "\n",
    "# Apply the query using pandasql\n",
    "result_df = ps.sqldf(query, locals())\n",
    "\n",
    "# Display the result DataFrame\n",
    "result_df[0:50]"
   ]
  },
  {
   "cell_type": "markdown",
   "id": "4d175cd8",
   "metadata": {},
   "source": [
    "### Top 50 najdrazsich diel"
   ]
  },
  {
   "cell_type": "code",
   "execution_count": null,
   "id": "3609fd08",
   "metadata": {
    "ExecuteTime": {
     "end_time": "2024-02-11T11:21:33.791762Z",
     "start_time": "2024-02-11T11:21:33.443466Z"
    },
    "execution": {
     "iopub.status.busy": "2025-08-06T07:00:35.434575Z",
     "iopub.status.idle": "2025-08-06T07:00:35.435582Z",
     "shell.execute_reply": "2025-08-06T07:00:35.435582Z",
     "shell.execute_reply.started": "2025-08-06T07:00:35.434575Z"
    }
   },
   "outputs": [],
   "source": [
    "# SQL-like query\n",
    "query = \"\"\"\n",
    "select \n",
    "autor,\n",
    "nazov,\n",
    "konecna_cena,\n",
    "cast(rok_vytvorenia as varchar) rok_vytvorenia,\n",
    "rok_drazby,\n",
    "url_soga\n",
    "from df \n",
    "where True \n",
    "and konecna_cena is not null \n",
    "--and olej\n",
    "order by konecna_cena\n",
    "DESC \n",
    "\"\"\"\n",
    "\n",
    "# Apply the query using pandasql\n",
    "result_df = ps.sqldf(query, locals())\n",
    "\n",
    "\n",
    "# Display the result DataFrame\n",
    "HTML(result_df[0:50].to_html(render_links=True, escape=False))"
   ]
  },
  {
   "cell_type": "markdown",
   "id": "193dcaff",
   "metadata": {},
   "source": [
    "### Top 50 najdrazsich diel - nie oleje"
   ]
  },
  {
   "cell_type": "code",
   "execution_count": null,
   "id": "f56680c8",
   "metadata": {
    "ExecuteTime": {
     "end_time": "2024-02-11T11:21:34.072257Z",
     "start_time": "2024-02-11T11:21:33.792825Z"
    },
    "execution": {
     "iopub.status.busy": "2025-08-06T07:00:35.436804Z",
     "iopub.status.idle": "2025-08-06T07:00:35.437727Z",
     "shell.execute_reply": "2025-08-06T07:00:35.437406Z",
     "shell.execute_reply.started": "2025-08-06T07:00:35.437406Z"
    }
   },
   "outputs": [],
   "source": [
    "# SQL-like query\n",
    "query = \"\"\"\n",
    "select \n",
    "autor,\n",
    "nazov,\n",
    "konecna_cena,\n",
    "cast(rok_vytvorenia as varchar) rok_vytvorenia,\n",
    "rok_drazby,\n",
    "url_soga\n",
    "from df \n",
    "where True \n",
    "and konecna_cena is not null \n",
    "and not olej\n",
    "order by konecna_cena\n",
    "DESC \n",
    "\"\"\"\n",
    "\n",
    "# Apply the query using pandasql\n",
    "result_df = ps.sqldf(query, locals())\n",
    "\n",
    "\n",
    "# Display the result DataFrame\n",
    "HTML(result_df[0:50].to_html(render_links=True, escape=False))"
   ]
  },
  {
   "cell_type": "markdown",
   "id": "5c44582b",
   "metadata": {},
   "source": [
    "### Top 50 najdrazsich diel - Pasteka"
   ]
  },
  {
   "cell_type": "code",
   "execution_count": null,
   "id": "f872e29e",
   "metadata": {
    "ExecuteTime": {
     "end_time": "2024-02-11T11:21:34.331206Z",
     "start_time": "2024-02-11T11:21:34.075275Z"
    },
    "execution": {
     "iopub.status.busy": "2025-08-06T07:00:35.438749Z",
     "iopub.status.idle": "2025-08-06T07:00:35.439073Z",
     "shell.execute_reply": "2025-08-06T07:00:35.439073Z",
     "shell.execute_reply.started": "2025-08-06T07:00:35.439073Z"
    }
   },
   "outputs": [],
   "source": [
    "# SQL-like query\n",
    "query = \"\"\"\n",
    "select \n",
    "autor,\n",
    "nazov,\n",
    "konecna_cena,\n",
    "cast(rok_vytvorenia as varchar) rok_vytvorenia,\n",
    "rok_drazby,\n",
    "url_soga\n",
    "from df \n",
    "where True \n",
    "and konecna_cena is not null \n",
    "--and not olej\n",
    "and autor like '%PASTEKA%'\n",
    "order by konecna_cena\n",
    "DESC \n",
    "\"\"\"\n",
    "\n",
    "# Apply the query using pandasql\n",
    "result_df = ps.sqldf(query, locals())\n",
    "\n",
    "\n",
    "# Display the result DataFrame\n",
    "HTML(result_df[0:50].to_html(render_links=True, escape=False))"
   ]
  },
  {
   "cell_type": "markdown",
   "id": "9f975bce",
   "metadata": {},
   "source": [
    "### Top 50 najdrazsich diel - Binder"
   ]
  },
  {
   "cell_type": "code",
   "execution_count": null,
   "id": "f644d928",
   "metadata": {
    "ExecuteTime": {
     "end_time": "2024-02-11T11:21:34.670410Z",
     "start_time": "2024-02-11T11:21:34.333221Z"
    },
    "execution": {
     "iopub.status.busy": "2025-08-06T07:00:35.440076Z",
     "iopub.status.idle": "2025-08-06T07:00:35.440076Z",
     "shell.execute_reply": "2025-08-06T07:00:35.440076Z",
     "shell.execute_reply.started": "2025-08-06T07:00:35.440076Z"
    }
   },
   "outputs": [],
   "source": [
    "# SQL-like query\n",
    "query = \"\"\"\n",
    "select \n",
    "autor,\n",
    "nazov,\n",
    "konecna_cena,\n",
    "cast(rok_vytvorenia as varchar) rok_vytvorenia,\n",
    "rok_drazby,\n",
    "url_soga\n",
    "from df \n",
    "where True \n",
    "and konecna_cena is not null \n",
    "--and not olej\n",
    "and autor like '%BINDER %'\n",
    "order by konecna_cena\n",
    "DESC \n",
    "\"\"\"\n",
    "\n",
    "# Apply the query using pandasql\n",
    "result_df = ps.sqldf(query, locals())\n",
    "\n",
    "\n",
    "# Display the result DataFrame\n",
    "HTML(result_df[0:50].to_html(render_links=True, escape=False))"
   ]
  },
  {
   "cell_type": "markdown",
   "id": "7b28401d",
   "metadata": {},
   "source": [
    "### Top 50 najdrazsich diel - Filko"
   ]
  },
  {
   "cell_type": "code",
   "execution_count": null,
   "id": "ee67c36c",
   "metadata": {
    "ExecuteTime": {
     "end_time": "2024-02-11T11:21:34.943005Z",
     "start_time": "2024-02-11T11:21:34.672422Z"
    },
    "execution": {
     "iopub.status.busy": "2025-08-06T07:00:35.441589Z",
     "iopub.status.idle": "2025-08-06T07:00:35.441589Z",
     "shell.execute_reply": "2025-08-06T07:00:35.441589Z",
     "shell.execute_reply.started": "2025-08-06T07:00:35.441589Z"
    }
   },
   "outputs": [],
   "source": [
    "# SQL-like query\n",
    "query = \"\"\"\n",
    "select \n",
    "autor,\n",
    "nazov,\n",
    "konecna_cena,\n",
    "cast(rok_vytvorenia as varchar) rok_vytvorenia,\n",
    "rok_drazby,\n",
    "url_soga\n",
    "from df \n",
    "where True \n",
    "and konecna_cena is not null \n",
    "--and not olej\n",
    "and autor like '%FILKO%'\n",
    "order by konecna_cena\n",
    "DESC \n",
    "\"\"\"\n",
    "\n",
    "# Apply the query using pandasql\n",
    "result_df = ps.sqldf(query, locals())\n",
    "\n",
    "\n",
    "# Display the result DataFrame\n",
    "HTML(result_df[0:50].to_html(render_links=True, escape=False))"
   ]
  },
  {
   "cell_type": "markdown",
   "id": "1af06346",
   "metadata": {},
   "source": [
    "### Top 50 najdrazsich diel - Laluha"
   ]
  },
  {
   "cell_type": "code",
   "execution_count": null,
   "id": "963bdd83",
   "metadata": {
    "ExecuteTime": {
     "end_time": "2024-02-11T11:21:35.219339Z",
     "start_time": "2024-02-11T11:21:34.945018Z"
    },
    "execution": {
     "iopub.status.busy": "2025-08-06T07:00:35.441589Z",
     "iopub.status.idle": "2025-08-06T07:00:35.443820Z",
     "shell.execute_reply": "2025-08-06T07:00:35.443820Z",
     "shell.execute_reply.started": "2025-08-06T07:00:35.443820Z"
    }
   },
   "outputs": [],
   "source": [
    "# SQL-like query\n",
    "query = \"\"\"\n",
    "select \n",
    "autor,\n",
    "nazov,\n",
    "konecna_cena,\n",
    "cast(rok_vytvorenia as varchar) rok_vytvorenia,\n",
    "rok_drazby,\n",
    "url_soga\n",
    "from df \n",
    "where True \n",
    "and konecna_cena is not null \n",
    "--and not olej\n",
    "and autor like '%LALUHA%'\n",
    "order by konecna_cena\n",
    "DESC \n",
    "\"\"\"\n",
    "\n",
    "# Apply the query using pandasql\n",
    "result_df = ps.sqldf(query, locals())\n",
    "\n",
    "\n",
    "# Display the result DataFrame\n",
    "HTML(result_df[0:50].to_html(render_links=True, escape=False))"
   ]
  },
  {
   "cell_type": "markdown",
   "id": "e3636d6f",
   "metadata": {},
   "source": [
    "### Top 50 najdrazsich diel - Benka"
   ]
  },
  {
   "cell_type": "code",
   "execution_count": null,
   "id": "fe8153a2",
   "metadata": {
    "ExecuteTime": {
     "end_time": "2024-02-11T11:21:35.629058Z",
     "start_time": "2024-02-11T11:21:35.221852Z"
    },
    "execution": {
     "iopub.status.busy": "2025-08-06T07:00:35.443820Z",
     "iopub.status.idle": "2025-08-06T07:00:35.444825Z",
     "shell.execute_reply": "2025-08-06T07:00:35.444825Z",
     "shell.execute_reply.started": "2025-08-06T07:00:35.444825Z"
    }
   },
   "outputs": [],
   "source": [
    "# SQL-like query\n",
    "query = \"\"\"\n",
    "select \n",
    "autor,\n",
    "nazov,\n",
    "konecna_cena,\n",
    "cast(rok_vytvorenia as varchar) rok_vytvorenia,\n",
    "rok_drazby,\n",
    "url_soga\n",
    "from df \n",
    "where True \n",
    "and konecna_cena is not null \n",
    "--and not olej\n",
    "and autor like '%BENKA%'\n",
    "order by konecna_cena\n",
    "DESC \n",
    "\"\"\"\n",
    "\n",
    "# Apply the query using pandasql\n",
    "result_df = ps.sqldf(query, locals())\n",
    "\n",
    "\n",
    "# Display the result DataFrame\n",
    "HTML(result_df[0:50].to_html(render_links=True, escape=False))"
   ]
  },
  {
   "cell_type": "markdown",
   "id": "b7e0985b",
   "metadata": {},
   "source": [
    "### Top 50 najdrazsich diel - Fulla"
   ]
  },
  {
   "cell_type": "code",
   "execution_count": null,
   "id": "cffe5893",
   "metadata": {
    "ExecuteTime": {
     "end_time": "2024-02-11T11:21:35.937025Z",
     "start_time": "2024-02-11T11:21:35.629058Z"
    },
    "execution": {
     "iopub.status.busy": "2025-08-06T07:00:35.445826Z",
     "iopub.status.idle": "2025-08-06T07:00:35.447023Z",
     "shell.execute_reply": "2025-08-06T07:00:35.447023Z",
     "shell.execute_reply.started": "2025-08-06T07:00:35.447023Z"
    }
   },
   "outputs": [],
   "source": [
    "# SQL-like query\n",
    "query = \"\"\"\n",
    "select \n",
    "autor,\n",
    "nazov,\n",
    "konecna_cena,\n",
    "cast(rok_vytvorenia as varchar) rok_vytvorenia,\n",
    "rok_drazby,\n",
    "url_soga\n",
    "from df \n",
    "where True \n",
    "and konecna_cena is not null \n",
    "--and not olej\n",
    "and autor like '%FULLA%'\n",
    "order by konecna_cena\n",
    "DESC \n",
    "\"\"\"\n",
    "\n",
    "# Apply the query using pandasql\n",
    "result_df = ps.sqldf(query, locals())\n",
    "\n",
    "\n",
    "# Display the result DataFrame\n",
    "HTML(result_df[0:50].to_html(render_links=True, escape=False))"
   ]
  },
  {
   "cell_type": "markdown",
   "id": "bcdb950e",
   "metadata": {},
   "source": [
    "### Top 50 najdrazsich diel - Klimo"
   ]
  },
  {
   "cell_type": "code",
   "execution_count": null,
   "id": "f442e65b",
   "metadata": {
    "ExecuteTime": {
     "end_time": "2024-02-11T11:21:36.216020Z",
     "start_time": "2024-02-11T11:21:35.940885Z"
    },
    "execution": {
     "iopub.status.busy": "2025-08-06T07:00:35.448021Z",
     "iopub.status.idle": "2025-08-06T07:00:35.448021Z",
     "shell.execute_reply": "2025-08-06T07:00:35.448021Z",
     "shell.execute_reply.started": "2025-08-06T07:00:35.448021Z"
    }
   },
   "outputs": [],
   "source": [
    "# SQL-like query\n",
    "query = \"\"\"\n",
    "select \n",
    "autor,\n",
    "nazov,\n",
    "konecna_cena,\n",
    "cast(rok_vytvorenia as varchar) rok_vytvorenia,\n",
    "rok_drazby,\n",
    "url_soga\n",
    "from df \n",
    "where True \n",
    "and konecna_cena is not null \n",
    "--and not olej\n",
    "and autor like '%KLIMO%'\n",
    "order by konecna_cena\n",
    "DESC \n",
    "\"\"\"\n",
    "\n",
    "# Apply the query using pandasql\n",
    "result_df = ps.sqldf(query, locals())\n",
    "\n",
    "\n",
    "# Display the result DataFrame\n",
    "HTML(result_df[0:50].to_html(render_links=True, escape=False))"
   ]
  },
  {
   "cell_type": "markdown",
   "id": "974504ec",
   "metadata": {},
   "source": [
    "### Top 50 najdrazsich diel - Roller"
   ]
  },
  {
   "cell_type": "code",
   "execution_count": null,
   "id": "2eafd1e8",
   "metadata": {
    "ExecuteTime": {
     "end_time": "2024-02-11T11:21:36.599175Z",
     "start_time": "2024-02-11T11:21:36.219252Z"
    },
    "execution": {
     "iopub.status.busy": "2025-08-06T07:00:35.449021Z",
     "iopub.status.idle": "2025-08-06T07:00:35.449801Z",
     "shell.execute_reply": "2025-08-06T07:00:35.449801Z",
     "shell.execute_reply.started": "2025-08-06T07:00:35.449801Z"
    }
   },
   "outputs": [],
   "source": [
    "# SQL-like query\n",
    "query = \"\"\"\n",
    "select \n",
    "autor,\n",
    "nazov,\n",
    "konecna_cena,\n",
    "cast(rok_vytvorenia as varchar) rok_vytvorenia,\n",
    "rok_drazby,\n",
    "url_soga\n",
    "from df \n",
    "where True \n",
    "and konecna_cena is not null \n",
    "--and not olej\n",
    "and autor like '%ROLLER%'\n",
    "order by konecna_cena\n",
    "DESC \n",
    "\"\"\"\n",
    "\n",
    "# Apply the query using pandasql\n",
    "result_df = ps.sqldf(query, locals())\n",
    "\n",
    "\n",
    "# Display the result DataFrame\n",
    "HTML(result_df[0:50].to_html(render_links=True, escape=False))"
   ]
  },
  {
   "cell_type": "markdown",
   "id": "3d90ec78",
   "metadata": {},
   "source": [
    "### Top 50 najdrazsich diel - Fila"
   ]
  },
  {
   "cell_type": "code",
   "execution_count": null,
   "id": "ac78979c",
   "metadata": {
    "ExecuteTime": {
     "end_time": "2024-02-11T11:21:36.870220Z",
     "start_time": "2024-02-11T11:21:36.602769Z"
    },
    "execution": {
     "iopub.status.busy": "2025-08-06T07:00:35.449801Z",
     "iopub.status.idle": "2025-08-06T07:00:35.451323Z",
     "shell.execute_reply": "2025-08-06T07:00:35.449801Z",
     "shell.execute_reply.started": "2025-08-06T07:00:35.449801Z"
    }
   },
   "outputs": [],
   "source": [
    "# SQL-like query\n",
    "query = \"\"\"\n",
    "select \n",
    "autor,\n",
    "nazov,\n",
    "konecna_cena,\n",
    "cast(rok_vytvorenia as varchar) rok_vytvorenia,\n",
    "rok_drazby,\n",
    "url_soga\n",
    "from df \n",
    "where True \n",
    "and konecna_cena is not null \n",
    "--and not olej\n",
    "and autor like '%FILA%'\n",
    "order by konecna_cena\n",
    "DESC \n",
    "\"\"\"\n",
    "\n",
    "# Apply the query using pandasql\n",
    "result_df = ps.sqldf(query, locals())\n",
    "\n",
    "\n",
    "# Display the result DataFrame\n",
    "HTML(result_df[0:50].to_html(render_links=True, escape=False))"
   ]
  },
  {
   "cell_type": "markdown",
   "id": "635f3b41",
   "metadata": {},
   "source": [
    "## Najvyssi narast a pokles cien"
   ]
  },
  {
   "cell_type": "markdown",
   "id": "579ba81e",
   "metadata": {},
   "source": [
    "### Najvyssi narast"
   ]
  },
  {
   "cell_type": "code",
   "execution_count": null,
   "id": "201a397d",
   "metadata": {
    "ExecuteTime": {
     "end_time": "2024-02-11T11:21:36.918758Z",
     "start_time": "2024-02-11T11:21:36.873230Z"
    },
    "execution": {
     "iopub.status.busy": "2025-08-06T07:00:35.451323Z",
     "iopub.status.idle": "2025-08-06T07:00:35.452330Z",
     "shell.execute_reply": "2025-08-06T07:00:35.452330Z",
     "shell.execute_reply.started": "2025-08-06T07:00:35.452330Z"
    }
   },
   "outputs": [],
   "source": [
    "from scipy.stats import linregress\n",
    "pd.set_option('display.max_colwidth', None)\n",
    "\n",
    "# Calculate the average price for each name in each year\n",
    "df_avg = df.groupby(['autor', 'rok_drazby'])['konecna_cena'].agg(['count', 'mean']).reset_index()\n",
    "df_avg = df_avg[df_avg['count']>=3][['autor', 'rok_drazby', 'mean']]\n",
    "\n",
    "# Filter authors with at least 50 rows\n",
    "author_counts = df_avg['autor'].value_counts()\n",
    "selected_authors = author_counts[author_counts >= 5].index\n",
    "df_avg_filtered = df_avg[df_avg['autor'].isin(selected_authors)]\n",
    "\n",
    "# Calculate the slope for each author\n",
    "slopes = []\n",
    "\n",
    "for author in selected_authors:\n",
    "    author_data = df_avg_filtered[df_avg_filtered['autor'] == author]\n",
    "    slope, _, _, _, _ = linregress(author_data['rok_drazby'], author_data['mean'])\n",
    "    slopes.append({'autor': author, 'priemerny_rocny_narast_v_cene': slope})\n",
    "\n",
    "# Create a DataFrame for the slopes\n",
    "slopes_df = pd.DataFrame(slopes)\n",
    "\n",
    "# Display the slopes\n",
    "slopes_df[slopes_df['priemerny_rocny_narast_v_cene'].notna()].sort_values('priemerny_rocny_narast_v_cene', ascending=False).reset_index(drop=True)[0:20]"
   ]
  },
  {
   "cell_type": "code",
   "execution_count": null,
   "id": "7fefd1b2",
   "metadata": {
    "ExecuteTime": {
     "end_time": "2024-02-11T11:21:36.950232Z",
     "start_time": "2024-02-11T11:21:36.921763Z"
    },
    "execution": {
     "iopub.status.busy": "2025-08-06T07:00:35.452641Z",
     "iopub.status.idle": "2025-08-06T07:00:35.452641Z",
     "shell.execute_reply": "2025-08-06T07:00:35.452641Z",
     "shell.execute_reply.started": "2025-08-06T07:00:35.452641Z"
    }
   },
   "outputs": [],
   "source": [
    "slopes_df[slopes_df['priemerny_rocny_narast_v_cene'].notna()].sort_values('priemerny_rocny_narast_v_cene', ascending=True).reset_index(drop=True)[0:20]"
   ]
  },
  {
   "cell_type": "code",
   "execution_count": null,
   "id": "d1ee5fff",
   "metadata": {
    "ExecuteTime": {
     "end_time": "2024-02-11T11:21:37.191542Z",
     "start_time": "2024-02-11T11:21:36.951234Z"
    },
    "execution": {
     "iopub.status.busy": "2025-08-06T07:00:35.454642Z",
     "iopub.status.idle": "2025-08-06T07:00:35.454642Z",
     "shell.execute_reply": "2025-08-06T07:00:35.454642Z",
     "shell.execute_reply.started": "2025-08-06T07:00:35.454642Z"
    }
   },
   "outputs": [],
   "source": [
    "# Calculate the average price for each name in each year\n",
    "df_avg = df.groupby(['autor', 'rok_drazby'])['konecna_cena'].mean().reset_index()\n",
    "\n",
    "# Filter authors with at least 50 rows\n",
    "selected_authors = ['MILAN PASTEKA', 'FILKO STANO', 'LALUHA MILAN']\n",
    "df_avg_filtered = df_avg[df_avg['autor'].isin(selected_authors)]\n",
    "\n",
    "# Create Bokeh ColumnDataSource\n",
    "source = ColumnDataSource(df_avg_filtered)\n",
    "\n",
    "# Plotting\n",
    "output_notebook()\n",
    "p = figure(plot_width=800, plot_height=400, title='Average Price Trends Over Time for Each Name',\n",
    "           x_axis_label='Year', y_axis_label='Average Price')\n",
    "\n",
    "# Add a line for each autor\n",
    "for color, autor in zip(Category10[6], df_avg_filtered['autor'].unique()):\n",
    "    autor_data = df_avg_filtered[df_avg_filtered['autor'] == autor]\n",
    "    autor_source = ColumnDataSource(autor_data)\n",
    "    p.line(x='rok_drazby', y='konecna_cena', source=autor_source, line_width=2, color=color, legend_label=autor)\n",
    "    p.circle(x='rok_drazby', y='konecna_cena', source=autor_source, size=8, color=color, legend_label=autor)\n",
    "\n",
    "p.legend.location = 'top_left'\n",
    "show(p)"
   ]
  },
  {
   "cell_type": "markdown",
   "id": "2a8cc484",
   "metadata": {},
   "source": [
    "## Najvyssie percento vydrazenych"
   ]
  },
  {
   "cell_type": "code",
   "execution_count": null,
   "id": "d80e45f1",
   "metadata": {
    "ExecuteTime": {
     "end_time": "2024-02-18T22:00:17.026271Z",
     "start_time": "2024-02-18T22:00:16.727212Z"
    },
    "execution": {
     "iopub.status.busy": "2025-08-06T07:00:35.455643Z",
     "iopub.status.idle": "2025-08-06T07:00:35.455643Z",
     "shell.execute_reply": "2025-08-06T07:00:35.455643Z",
     "shell.execute_reply.started": "2025-08-06T07:00:35.455643Z"
    }
   },
   "outputs": [],
   "source": [
    "# SQL-like query\n",
    "query = \"\"\"\n",
    "select \n",
    "autor, \n",
    "count(*) pocet_drazenych_od_2004, \n",
    "sum(vydrazene) as pocet_vydrazenych_od_2004,\n",
    "round(sum(vydrazene)*100.0/count(*),2) as percento_vydrazenych\n",
    "from df \n",
    "where True \n",
    "--and konecna_cena is not null \n",
    "--and olej\n",
    "group by 1 \n",
    "having count(*)>50\n",
    "order by 4\n",
    "DESC \n",
    "\"\"\"\n",
    "\n",
    "\n",
    "# Apply the query using pandasql\n",
    "result_df = ps.sqldf(query, locals())\n",
    "\n",
    "# Display the result DataFrame\n",
    "result_df[0:50]"
   ]
  }
 ],
 "metadata": {
  "hide_input": false,
  "kernelspec": {
   "display_name": "Python 3 (ipykernel)",
   "language": "python",
   "name": "python3"
  },
  "language_info": {
   "codemirror_mode": {
    "name": "ipython",
    "version": 3
   },
   "file_extension": ".py",
   "mimetype": "text/x-python",
   "name": "python",
   "nbconvert_exporter": "python",
   "pygments_lexer": "ipython3",
   "version": "3.9.13"
  },
  "toc": {
   "base_numbering": 1,
   "nav_menu": {},
   "number_sections": true,
   "sideBar": true,
   "skip_h1_title": false,
   "title_cell": "Table of Contents",
   "title_sidebar": "Contents",
   "toc_cell": false,
   "toc_position": {
    "height": "calc(100% - 180px)",
    "left": "10px",
    "top": "150px",
    "width": "316.25px"
   },
   "toc_section_display": true,
   "toc_window_display": true
  },
  "varInspector": {
   "cols": {
    "lenName": 16,
    "lenType": 16,
    "lenVar": 40
   },
   "kernels_config": {
    "python": {
     "delete_cmd_postfix": "",
     "delete_cmd_prefix": "del ",
     "library": "var_list.py",
     "varRefreshCmd": "print(var_dic_list())"
    },
    "r": {
     "delete_cmd_postfix": ") ",
     "delete_cmd_prefix": "rm(",
     "library": "var_list.r",
     "varRefreshCmd": "cat(var_dic_list()) "
    }
   },
   "types_to_exclude": [
    "module",
    "function",
    "builtin_function_or_method",
    "instance",
    "_Feature"
   ],
   "window_display": false
  }
 },
 "nbformat": 4,
 "nbformat_minor": 5
}
